{
 "cells": [
  {
   "cell_type": "markdown",
   "metadata": {
    "id": "OIZjtfHTrztj"
   },
   "source": [
    "# ejercico 1 parcial\n",
    "Utilizce la regla del trapecio y la regla de Simpson para encontrar aproximaciones de,\n",
    "$$ \\int_1^3 \\ln (x^4) dx$$\n",
    "tales que, en cada caso, el error cometido sea inferior a $10^{-4}$"
   ]
  },
  {
   "cell_type": "markdown",
   "metadata": {
    "id": "NAUFPtVXr5NX"
   },
   "source": [
    "# Definciones\n"
   ]
  },
  {
   "cell_type": "markdown",
   "metadata": {
    "id": "x7P80kCDrztk"
   },
   "source": [
    "\n",
    "Para realizar las aproximaciones se utilizara la regla del Trapiecio y de Simpson.\n",
    "Las definciones se sacan de Galeano, J. y Rodr ́ıguez C(pág 68, 70, 73 y 74)\n",
    "\n",
    "### Teorema 4.1 (Regla del trapecio)\n",
    "\n",
    "Sea $f$ una función acotada sobre el intervalo $[a, b]$. Podemos aproximar\n",
    "$$\n",
    "\\int_a^b f(x) dx\n",
    "$$\n",
    "por medio de\n",
    "$$\n",
    "T_n = \\frac{\\Delta x}{2} (y_0 + 2y_1 + 2y_2 + \\cdots + 2y_{n-1} + y_n),\n",
    "$$\n",
    "donde $P = \\{a = x_0, x_1, \\ldots, x_n = b\\}$ es una partición del intervalo $[a, b]$ en $n$ subintervalos iguales, cada uno de longitud $\\Delta x = \\frac{b-a}{n}$, y donde $y_k = f(x_k)$.\n",
    "\n",
    "#### Error en la regla del trapecio\n",
    "\n",
    "Si $f''$ es continua y $M$ es una cota superior para los valores de $|f''|$ en $[a, b]$, entonces el error $E_T$ en la aproximación por la regla del trapecio, de la integral desde $a$ hasta $b$ de $f(x)$ en $n$ pasos, satisface la desigualdad\n",
    "$$\n",
    "|E_T| \\leq \\frac{M(b-a)^3}{12n^2}.\n",
    "$$\n"
   ]
  },
  {
   "cell_type": "markdown",
   "metadata": {
    "id": "ChJZe8k3sE8B"
   },
   "source": [
    "### Teorema 4.6 (Regla de Simpson)\n",
    "\n",
    "Sea $f$ una función acotada sobre el intervalo $[a, b]$. Podemos aproximar\n",
    "$$\n",
    "\\int_a^b f(x) dx\n",
    "$$\n",
    "usando\n",
    "$$\n",
    "S = \\frac{\\Delta x}{3} \\left( y_0 + 4y_1 + 2y_2 + 4y_3 + 2y_4 + \\cdots + 2y_{n-2} + 4y_{n-1} + y_n \\right),\n",
    "$$\n",
    "donde $n$ es par, $\\Delta x = \\frac{b-a}{n}$, $y_k = f(x_k)$ para $k = 0, 1, \\ldots, n$.\n",
    "\n",
    "#### Error en la regla de Simpson\n",
    "\n",
    "Si $f^{(4)}$ es continua y $M$ es cualquier cota superior para los valores de $|f^{(4)}(x)|$ en $[a, b]$, entonces el error $E_S$ al aproximar la integral de $f(x)$ desde $a$ hasta $b$ con $n$ subintervalos satisface la desigualdad\n",
    "$$\n",
    "|E_S| \\leq \\frac{M(b-a)^5}{180n^4}.\n",
    "$$\n"
   ]
  },
  {
   "cell_type": "markdown",
   "metadata": {
    "id": "Hp1eOj16rztl"
   },
   "source": [
    "# Calculo"
   ]
  },
  {
   "cell_type": "markdown",
   "metadata": {
    "id": "siyWu-2wu8Bb"
   },
   "source": [
    "### general\n",
    "la estimacion se realiza en `c++` con el estandar `c++17` con el objetivo de tener un mayor control de la exactitud de los valores, utilizando el tipo de variable `long double` que en arquitecturas de 64 bits (que son la mayoria) tendra una exactitud de 16 cifras decimales, si se desea ver a detalle cada funcion y cada calculo se puede ir a github.com/thomatrixting/integracion_numerica y ver los archivos donde `integracion.cpp` sera en el que estaran todas las funciones junto con la funcion `main` para correr la estimacion. En este documento se especificaran partes especificas del codigo y se pondra la salida"
   ]
  },
  {
   "cell_type": "markdown",
   "metadata": {
    "id": "mPa9aycXwcNn"
   },
   "source": [
    "se define la funcion $f(x) = \\ln(x^4)$ como la cual es usada atravez de la sigueinte funcion:\n",
    "\n",
    "```\n",
    "long double function(long double x){\n",
    "    long double result = std::log( std::pow(x,4) );\n",
    "    return result;\n",
    "}\n",
    "```\n",
    "\n"
   ]
  },
  {
   "cell_type": "markdown",
   "metadata": {
    "id": "_8Mg-7uZsN1w"
   },
   "source": [
    "### modelo del trapecio\n",
    "\n",
    "```\n",
    "long double trapezoid_estimation(long double vmin, long double vmax, long n ,fptr fun){\n",
    "    long double delta = (vmax - vmin)/(n);\n",
    "    long double sum = 0;\n",
    "\n",
    "    //add last and firts intem\n",
    "    sum = sum + fun(vmin);\n",
    "    sum = sum + fun(vmax);\n",
    "\n",
    "    for (int i = 1; i<n; i++ ){ //exclude firts and last intem\n",
    "        sum = sum + 2*fun(vmin + delta*i) ;\n",
    "    }\n",
    "\n",
    "    return (delta/2)*sum;\n",
    "}\n",
    "```\n",
    "la cual recibe como argumentos los limites de integracion `vmim` y `vmax` que corresponden al $a$ y $b$ de la defincion del algoritmo, ademas del numero de intervalos `n` y la funcion a estimar como un puntero `fun`\n"
   ]
  },
  {
   "cell_type": "markdown",
   "metadata": {
    "id": "mnRYx158rztm"
   },
   "source": [
    "## Aproximación del n del Trapecio\n",
    "para saber cuantos n usar se realiza el siguiente procedemineto, teniendo en cuenta que la funcion es $$f(x) = \\ln (x^4)$$ las deribadas son\n",
    "\n",
    "### **Derivadas:**\n",
    "1. Primera derivada:\n",
    "   $$\n",
    "   \\frac{dy}{dx} = \\frac{1}{x^4} \\cdot 4x^3 = \\frac{4}{x}\n",
    "   $$\n",
    "2. Segunda derivada:\n",
    "   $$\n",
    "   \\frac{d^2y}{dx^2} = -\\frac{4}{x^2}\n",
    "   $$\n",
    "\n",
    "Para calcular el valor de $M$, la cota superior de $|\\frac{d^2y}{dx^2}| = \\frac{4}{x^2}.$ en el intervalo $[1, 3]$, como $|\\frac{d^2y}{dx^2}|$ es un cociente encones se toma el valor mas pequeño de x ($x=1$) ya que este sera la cota superior:\n",
    "\n",
    "En $x = 1$:\n",
    "$$\n",
    "|\\frac{d^2y}{dx^2}| = \\frac{4}{1^2} = 4\n",
    "$$\n",
    "\n",
    "El máximo valor de $|f''(x)|$ en $[1, 3]$ es $M = 4$.\n",
    "### **subtitucion de los valores:**\n",
    "\n",
    "Para encontrar el valor inferior de $n$, el número de particiones necesarias para la aproximación del trapecio con un error menor o igual a $10^{-4}$, usamos la fórmula del error:\n",
    "$$\n",
    "|E_T| \\leq \\frac{M(b-a)^3}{12n^2}\n",
    "$$\n",
    "\n",
    "Sustituyendo los valores:\n",
    "$$\n",
    "10^{-4} \\leq \\frac{4(3-1)^3}{12n^2}\n",
    "$$\n",
    "\n",
    "### **Simplificación:**\n",
    "se tiene que:\n",
    "$$\n",
    "(3-1)^3 = 2^3 = 8.\n",
    "$$\n",
    "Entonces:\n",
    "$$\n",
    "\\frac{4(3-1)^3}{12n^2} = \\frac{4 \\cdot 8}{12n^2} = \\frac{32}{12n^2} = \\frac{8}{3n^2}\n",
    "$$\n",
    "Simplificando:\n",
    "\n",
    "\n",
    "La desigualdad se convierte en:\n",
    "$$\n",
    "10^{-4} \\leq \\frac{8}{3n^2}\n",
    "$$\n",
    "\n",
    "### **Despejamos $n$:**\n",
    "$$\n",
    "10^{-4} \\leq \\frac{8}{3n^2}\\implies\n",
    "10^{-4} \\cdot 3n^2 \\leq 8 \\implies\n",
    "n^2 \\geq \\frac{8}{3 \\cdot 10^{-4}}\n",
    "$$\n",
    "despejando para el valor minimo:\n",
    "$$\n",
    "|n| \\geq \\sqrt{\\frac{8}{3 \\cdot 10^{-4}}} \\implies n \\geq \\sqrt{\\frac{8}{3 \\cdot 10^{-4}}} \\approx 164\n",
    "$$\n",
    "### **Resultado final:**\n",
    "El valor entero más cercano para $n$ es:\n",
    "$$\n",
    "n = 164.\n",
    "$$\n",
    "Por lo tanto, se requieren **164 particiones** para garantizar que el error sea menor o igual a $10^{-4}$.\n"
   ]
  },
  {
   "cell_type": "markdown",
   "metadata": {
    "id": "VR2UmBM3xVS-"
   },
   "source": [
    "con el valor de $n$ se procede a hacer el calculo utilizando la funcion antes expuesta con los argumento de `n=164`,`vmin=1`,`vmax=3` obteniendo como salida de la funcion:\n",
    "\n",
    "```\n",
    "estimacion trapezoid: 5.183314415142979793e+00\n",
    "estimacion error: 6.376011889255958805e-04\n",
    "```\n",
    "que como se ve que es exacto hasta la cuarta cifra ya que el valor real hasta la cuarta cifra segun el anexo 1 es de $5.1833$, algo que tambien se ve con el error relativo que es de escala $10^{-4}$.\n"
   ]
  },
  {
   "cell_type": "markdown",
   "metadata": {
    "id": "6ggV694Cy8LZ"
   },
   "source": [
    "## modelo de Simpsom\n",
    "teniendo en cuenta la definicion del la regla de Simpson se realiza la sigueinte funcion\n",
    "\n",
    "\n",
    "```\n",
    "long double simpsom_estimation(long double vmin, long double vmax, long n ,fptr fun){\n",
    "    long double delta = (vmax - vmin)/(n);\n",
    "    long double sum = 0;\n",
    "\n",
    "    //add last and firts intem\n",
    "    sum = sum + fun(vmin);\n",
    "    sum = sum + fun(vmax);\n",
    "\n",
    "    for (int i = 1; i<n; i=i+2 ){ //exclude firts and last intem and iterate in odd numbers\n",
    "        sum = sum + 4*fun(vmin + delta*i) ;\n",
    "    }\n",
    "    for (int i = 2; i<n; i=i+2 ){ //exclude firts and last intem and iterate in even numbers\n",
    "        sum = sum + 2*fun(vmin + delta*i) ;\n",
    "    }\n",
    "\n",
    "    return (delta/3)*sum;\n",
    "\n",
    "}\n",
    "```\n",
    "la cual recibe como argumentos los limites de integracion `vmim` y `vmax` que corresponden al $a$ y $b$ de la defincion del algoritmo, ademas del numero de intervalos `n` (que solo puede ser par) y la funcion a estimar como un puntero `fun`\n",
    "\n"
   ]
  },
  {
   "cell_type": "markdown",
   "metadata": {
    "id": "blYsCQsIrztm"
   },
   "source": [
    "## Aproximación de Simpson\n",
    "\n",
    "Para la función $f(x) = \\ln (x^4)$ se calcula su cuarta derivada, ya que es necesaria para la fórmula del error en la regla de Simpson:\n",
    "\n",
    "### **Derivadas:**\n",
    "1. Primera derivada:\n",
    "   $$\n",
    "   \\frac{dy}{dx} = \\frac{1}{x^4} \\cdot 4x^3 = \\frac{4}{x}\n",
    "   $$\n",
    "2. Segunda derivada:\n",
    "   $$\n",
    "   \\frac{d^2y}{dx^2} = -\\frac{4}{x^2}\n",
    "   $$\n",
    "3. Tercera derivada:\n",
    "   $$\n",
    "   \\frac{d^3y}{dx^3} = \\frac{8}{x^3}\n",
    "   $$\n",
    "4. Cuarta derivada:\n",
    "   $$\n",
    "   \\frac{d^4y}{dx^4} = -\\frac{24}{x^4}\n",
    "   $$\n",
    "\n",
    "### **Subtitucion de valores:**\n",
    "Para determinar el valor inferior de $n$, el número de particiones necesarias para que el error sea menor o igual a $10^{-4}$, usamos la fórmula del error de Simpson:\n",
    "$$\n",
    "|E_S| \\leq \\frac{M(b-a)^5}{180n^4}\n",
    "$$\n",
    "\n",
    "Aquí, $M$ es una cota superior para $|f^{(4)}(x)|$ en $[a, b]$. Tomando $|f^{(4)}(x)| = \\frac{24}{x^4}$, el valor máximo en el intervalo $[1, 3]$ ocurre en $x = 1$ al ser un cociente:\n",
    "$$\n",
    "M = \\left| f^{(4)}(1) \\right| = 24\n",
    "$$\n",
    "\n",
    "Sustituimos los valores:\n",
    "$$\n",
    "10^{-4} \\leq \\frac{24(3-1)^5}{180n^4}\n",
    "$$\n",
    "\n",
    "### **Simplificación:**\n",
    "se tiene que\n",
    "$$\n",
    "(3-1)^5 = 2^5 = 32\n",
    "$$\n",
    "Entonces:\n",
    "$$\n",
    "10^{-4} \\leq \\frac{24 \\cdot 32}{180n^4}=\n",
    "\\frac{24 \\cdot 32}{180} = \\frac{768}{180} = \\frac{128}{30}\n",
    "$$\n",
    "La desigualdad queda:\n",
    "$$\n",
    "10^{-4} \\leq \\frac{128}{30n^4}\n",
    "$$\n",
    "\n",
    "### **Despeje de $n$:**\n",
    "\n",
    "$$\n",
    "10^{-4} \\leq \\frac{128}{30n^4} \\implies\n",
    "10^{-4} \\cdot 30n^4 \\leq 128 \\implies\n",
    "n^4 \\geq \\frac{128}{30 \\cdot 10^{-4}}\n",
    "$$\n",
    "\n",
    "Por lo tanto se tiene que depenjando para el valor minimo\n",
    "$$\n",
    "|n| \\geq  {\\sqrt[4] {\\frac{128}{30 \\cdot 10^{-4}}}} \\implies\n",
    "n \\geq  {\\sqrt[4] {\\frac{128}{30 \\cdot 10^{-4}}}} \\approx 16\n",
    "$$\n",
    "\n",
    "### **resultado de final:**\n",
    "se necesitan $16$ intervalos para complir que el error sea menor a $10^{-4}$\n"
   ]
  },
  {
   "cell_type": "markdown",
   "metadata": {
    "id": "a2p-byzjzu_P"
   },
   "source": [
    "teniendo el valor del n para simpsom se calcula la funcion antes mencionada con el valor de `n=16`,`vmin=1`,`vmax=3` con lo que se obtiene:\n",
    "\n",
    "\n",
    "```\n",
    "estimation simpsom: 5.183337245430172598e+00\n",
    "estimation error: 1.971430115396775179e-04\n",
    "```\n",
    "que como se ve es exacto hasta la cuarta cifra como se pedia con el n, ya que segun el anexo 1 el valor de la integral es de $5.1833$\n",
    "\n"
   ]
  },
  {
   "cell_type": "markdown",
   "metadata": {
    "id": "BLdhDIR31l3W"
   },
   "source": [
    "# verificacion grafica"
   ]
  },
  {
   "cell_type": "markdown",
   "metadata": {
    "id": "C6eVM-aM1opX"
   },
   "source": [
    "con el objetivo de verificar que los estimadores de la regla del trapecio y la de simsom son correctos, ademas de observar el error computacional se realiza la siguiente grafica, que relacionara el error de cada una de los estimadores conforme a se varia el $n$, esto se hace para el tango de $[10,1000]$ saltando de 4 en 4 valores"
   ]
  },
  {
   "cell_type": "code",
   "execution_count": null,
   "metadata": {
    "cellView": "form",
    "colab": {
     "base_uri": "https://localhost:8080/",
     "height": 606
    },
    "id": "LgHNEO502JKl",
    "outputId": "06bded9b-2b9e-412a-d840-825cbf658066"
   },
   "outputs": [
    {
     "data": {
      "image/png": "[encoded data removed]",
      "text/plain": [
       "<Figure size 1000x600 with 1 Axes>"
      ]
     },
     "metadata": {},
     "output_type": "display_data"
    }
   ],
   "source": [
    "# @title\n",
    "import matplotlib.pyplot as plt\n",
    "import numpy as np\n",
    "import pandas as pd\n",
    "\n",
    "df = pd.read_csv('datos.csv')\n",
    "\n",
    "\n",
    "# Create the figure and axis\n",
    "fig, ax = plt.subplots(figsize=(10, 6))\n",
    "\n",
    "# Plot the data\n",
    "\n",
    "ax.plot('n', 'trapezoid_error', label='regla del trapecio', linewidth=2, linestyle='-', marker='o', markersize=3, data = df, color = \"#2f45bf\")\n",
    "ax.plot('n', 'simpsom_error', label='regla de simpsom', linewidth=2, linestyle='-', marker='o', markersize=3, data = df, color = \"#f2921d\")\n",
    "\n",
    "\n",
    "# Add grid\n",
    "ax.grid(visible=True, which='both', linestyle='--', linewidth=0.5, alpha=0.7)\n",
    "\n",
    "plt.axhline(10**(-4),label = r\"precision de $10^{-4}$\", color = \"red\",  linestyle='--', alpha=0.5)\n",
    "plt.axvline(164,label = r\"valor n trapecio\", color = \"#2f45bf\", linestyle='--', alpha=0.5)\n",
    "plt.axvline(16,label = r\"valor n simpsom\", color = \"#f2921d\", linestyle='--', alpha=0.5)\n",
    "\n",
    "\n",
    "# Customize the plot\n",
    "ax.set_title(r'error relativo en escala LogLog de algoritmos estimando la integral $\\int^{b}_a\\ln (x^4)$', fontsize=12, weight='bold')\n",
    "ax.set_xscale(\"log\")\n",
    "ax.set_yscale(\"log\")\n",
    "\n",
    "ax.set_xlabel(r\"$h$\")\n",
    "ax.set_ylabel(r\"Error relativo\")\n",
    "ax.legend(fontsize=12)\n",
    "# Adjust tick parameters\n",
    "ax.tick_params(axis='both', which='major', labelsize=10)\n",
    "\n",
    "# Tight layout for better spacing\n",
    "plt.tight_layout()\n",
    "# Show the plot\n",
    "plt.savefig('figura_1.pdf', format='pdf', bbox_inches='tight')\n",
    "plt.show()"
   ]
  },
  {
   "cell_type": "markdown",
   "metadata": {
    "id": "ey_Jjy8-4Q3a"
   },
   "source": [
    "en el que se puede apreciar como el error cae mucho mas rapido con la estimacion de simpsom que con la del trapcio, ademas de que como se veia en el ejercicio anterior a la estiamcion de simpson solo le toma menos de $n=20$ llegar a la precision deseada cuando para la del trapecio le toma mas de $n=150$ para llegar a la misma precicion, y como tambien la estiamcion del trapecion solo llega a una presicion de 7 cifras con $n=1000$ cunado ya 15 cifras de presicion"
   ]
  },
  {
   "cell_type": "markdown",
   "metadata": {
    "id": "AwfYiE6l1BRy"
   },
   "source": [
    "# anexos y bibliografia"
   ]
  },
  {
   "cell_type": "markdown",
   "metadata": {
    "id": "E7GnGXUa6_fT"
   },
   "source": [
    "- Galeano, J. y Rodr ́ıguez C. C ́alculo integral en una variable. Universidad Nacional de Colombia."
   ]
  },
  {
   "cell_type": "markdown",
   "metadata": {
    "id": "4BJe55Qlrztm"
   },
   "source": [
    "## Anexo 1: calculo de integral\n",
    "con el objetivo de calcular el error de la estimacion se calcula la integral teoricamente:\n",
    "$$\n",
    "\\int_1^3 \\ln(x^4) \\, dx\n",
    "$$\n",
    "\n",
    "### **simplificacion**\n",
    "por propiedades se tiene:\n",
    "$$\n",
    " \\int_1^3 \\ln(x^4) \\, dx =\\int_1^3 4\\ln(x) \\, dx\n",
    " = 4 \\int_1^3 \\ln(x) \\, dx\n",
    "$$\n",
    "\n",
    "### **resolver integral**\n",
    "sabiendo que la integral de $\\ln(x)$ es\n",
    "$$\n",
    "\\int \\ln(x) \\, dx = x \\ln(x) - x + C\n",
    "$$\n",
    "se tiene:\n",
    "$$\n",
    "4\\int_1^3 \\ln(x) \\, dx = 4\\left[ x \\ln(x) - x \\right]_1^3\n",
    "$$\n",
    "\n",
    "### **Evaluar**\n",
    "Evaluamos $x \\ln(x) - x$ en $x = 3$ y $x = 1$:\n",
    "\n",
    "- En $x = 3$:\n",
    "  $$\n",
    "  3 \\ln(3) - 3\n",
    "  $$\n",
    "\n",
    "- En $x = 1$:\n",
    "  $$\n",
    "  1 \\ln(1) - 1 = 0 - 1 = -1\n",
    "  $$\n",
    "\n",
    "### **subtitucion**\n",
    "$$\n",
    "4\\int_1^3 \\ln(x) \\, dx = 4 [\\left ( 3 \\ln(3) - 3 \\right) - \\left( -1 \\right)]\n",
    " = 12 \\ln(3) - 12 + 4 = 12 \\ln(3) - 8\n",
    "$$\n",
    "### **resultado**\n",
    "se obtine que el valor teoriico de la integral es $$12ln(3)-8 \\approx 5.1833$$\n",
    "\n",
    "\n"
   ]
  },
  {
   "cell_type": "markdown",
   "metadata": {
    "id": "H6RQE6Td1HFB"
   },
   "source": [
    "con esta informacion se define la funcion:\n",
    "\n",
    "\n",
    "```\n",
    "long double define_integral(void){\n",
    "\n",
    "    return 12*std::log(3) - 8; //the exact value is set to reduce the computacional error\n",
    "\n",
    "}\n",
    "```\n",
    "que calculara el valor exacto a 18 cifras decimales y sera el valor que se use para calcular el error relativo\n",
    "\n"
   ]
  }
 ],
 "metadata": {
  "colab": {
   "provenance": []
  },
  "kernelspec": {
   "display_name": "basic_data_science",
   "language": "python",
   "name": "python3"
  },
  "language_info": {
   "name": "python",
   "version": "3.13.0"
  }
 },
 "nbformat": 4,
 "nbformat_minor": 0
}
